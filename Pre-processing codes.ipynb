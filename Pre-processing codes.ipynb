{
 "cells": [
  {
   "cell_type": "markdown",
   "id": "2fea4156",
   "metadata": {},
   "source": [
    "# Harvard MMCA data preparation codes\n",
    "This notebook analyses data code, in particular data_metric sheet, obtained from literature review of collaboration analytics dataset that was done by LTI lab, Harvard University.\n",
    "\n",
    "The original file was changed for the analysis purpose.\n",
    "* In the data sheet of data_metric, an additional column was added in the last containing '#'. The reason behind this was to allow record-wise parsing of the sheet. It actually contained records expanding to multiple lines which made it difficult to be parsed by libraries (e.g., pandas)."
   ]
  },
  {
   "cell_type": "code",
   "execution_count": 28,
   "id": "831157d6",
   "metadata": {},
   "outputs": [],
   "source": [
    "import pandas as pd\n",
    "import pprint as pp"
   ]
  },
  {
   "cell_type": "code",
   "execution_count": 13,
   "id": "cace86b8",
   "metadata": {},
   "outputs": [],
   "source": [
    "def getPaperYear(paper_id,year_df=year):\n",
    "    \"\"\"\n",
    "    This function simply takes paper_id as input and return the year in which paper was published.\n",
    "    \"\"\"\n",
    "    year = year_df.loc[year_df['paper_id_new']==paper_id,:]['year'].to_list()[0]\n",
    "    return year\n",
    "\n",
    "\n",
    "def getRecord(lines,index):\n",
    "    \"\"\"\n",
    "    Function to parse metric sheet. The proper exeuction of this function requires adding '#' in \n",
    "    the last column of the sheet.\n",
    "    \n",
    "    params:\n",
    "        \n",
    "        lines: lines read from csv file.\n",
    "        index: line number from where parsing starts for the new record\n",
    "        \n",
    "    returns:\n",
    "    \n",
    "        record    : parsed record in a single line\n",
    "        line_index: line number for the next record\n",
    "        \n",
    "    \"\"\"\n",
    "    \n",
    "    line = lines[index]\n",
    "    \n",
    "\n",
    "    line_index = index\n",
    "    record = ''\n",
    "    # adding line until stop symbol occurs\n",
    "    while line_index < len(lines):\n",
    "        record += lines[line_index]\n",
    "        if '#' in lines[line_index]:\n",
    "            break\n",
    "        line_index += 1\n",
    "    return record,line_index+1\n",
    "            "
   ]
  },
  {
   "cell_type": "code",
   "execution_count": 65,
   "id": "1d1078e8",
   "metadata": {},
   "outputs": [
    {
     "name": "stdout",
     "output_type": "stream",
     "text": [
      "Total 155 records are parsed\n"
     ]
    }
   ],
   "source": [
    "# Loading csv files\n",
    "file = open('../metric.csv')\n",
    "lines = file.readlines()\n",
    "\n",
    "# Parsing data files record-wise\n",
    "records = []\n",
    "current_record_index = 1 # skipping first line (line number:0) which contains column names\n",
    "\n",
    "while current_record_index < len(lines):\n",
    "    record,next_record_index = getRecord(lines,current_record_index)\n",
    "    \n",
    "    if record != '': # to address cases when empty line occurs\n",
    "        current_record_index = next_record_index\n",
    "        records.append(record)\n",
    "    else:\n",
    "        current_record_index += 1\n",
    "    \n",
    "print('Total {} records are parsed'.format(len(records)))"
   ]
  },
  {
   "cell_type": "code",
   "execution_count": 114,
   "id": "0e423719",
   "metadata": {},
   "outputs": [
    {
     "name": "stdout",
     "output_type": "stream",
     "text": [
      "Raw record:\n",
      "\n",
      " ('3;4;edwin;\"VI) EDA\\nVII) ECG\";\"VI) Physiological\\nVII) Physiological\";\"VI) Varioport 16-bit digital skin conductance amplifier\\nVII) modified Lead II configuration\";\"VI) Varioport-B portable recorder system\\nVII) NS\";1) physiological linkage;1) Physiological;1) EDA;1) individual;1) VI&VII;1) correlation;\"A) behavioral Involvement\\nB) empathy\\nC) negative Feelings\\nD) perceived comprehension\";\"A) Social Presence in Gaming Questionnaire\\nB) Social Presence in Gaming Questionnaire\\nC) Social Presence in Gaming Questionnaire\\nD) Social Presence Inventory Questionnaire\";\"A) cognitive engagement\\nB) affective\\nC) affective\\nD) learning\";\"A) process\\nB) process\\nC) process\\nD) product\";\"1-A:regression: sig\\n1-B:regression: sig\\n1-C:regression: sig\\n1-D:regression: sig\";#;;;;;;;;;;;;;;;;;;;;;;;;;;;;;;;;;;\\n', 50)\n"
     ]
    }
   ],
   "source": [
    "# sample of record\n",
    "print('Raw record:\\n\\n',getRecord(lines,30))"
   ]
  },
  {
   "cell_type": "markdown",
   "id": "73205be2",
   "metadata": {},
   "source": [
    "The record still contains new line as part of record. We will now process this record to make to python ready."
   ]
  },
  {
   "cell_type": "code",
   "execution_count": 32,
   "id": "67e28c3f",
   "metadata": {},
   "outputs": [],
   "source": [
    "def parseRecord(text):\n",
    "    \"\"\"\n",
    "    This function pre-process the record to transform the record into \n",
    "    the format which supports easier data processing.\n",
    "    \"\"\"\n",
    "    processed = text.split('#')[0]\n",
    "    items = processed.split(';')\n",
    "    items_processed = []    \n",
    "    for ind,item in enumerate(items):\n",
    "        items_processed.append(item.replace('\\n',';'))\n",
    "    return items_processed"
   ]
  },
  {
   "cell_type": "code",
   "execution_count": 115,
   "id": "38fd1e18",
   "metadata": {},
   "outputs": [
    {
     "name": "stdout",
     "output_type": "stream",
     "text": [
      "Processed record:\n",
      "\n",
      "\n",
      "['3',\n",
      " '4',\n",
      " 'edwin',\n",
      " '\"VI) EDA;VII) ECG\"',\n",
      " '\"VI) Physiological;VII) Physiological\"',\n",
      " '\"VI) Varioport 16-bit digital skin conductance amplifier;VII) modified Lead '\n",
      " 'II configuration\"',\n",
      " '\"VI) Varioport-B portable recorder system;VII) NS\"',\n",
      " '1) physiological linkage',\n",
      " '1) Physiological',\n",
      " '1) EDA',\n",
      " '1) individual',\n",
      " '1) VI&VII',\n",
      " '1) correlation',\n",
      " '\"A) behavioral Involvement;B) empathy;C) negative Feelings;D) perceived '\n",
      " 'comprehension\"',\n",
      " '\"A) Social Presence in Gaming Questionnaire;B) Social Presence in Gaming '\n",
      " 'Questionnaire;C) Social Presence in Gaming Questionnaire;D) Social Presence '\n",
      " 'Inventory Questionnaire\"',\n",
      " '\"A) cognitive engagement;B) affective;C) affective;D) learning\"',\n",
      " '\"A) process;B) process;C) process;D) product\"',\n",
      " '\"1-A:regression: sig;1-B:regression: sig;1-C:regression: sig;1-D:regression: '\n",
      " 'sig\"',\n",
      " '']\n"
     ]
    }
   ],
   "source": [
    "print('Processed record:\\n\\n')\n",
    "pp.pprint(parseRecord(records[2]))"
   ]
  },
  {
   "cell_type": "markdown",
   "id": "aa1c91dd",
   "metadata": {},
   "source": [
    "## Preparing a CSV file for processing\n",
    "Now, we will prepare a CSV file which will contain processed records."
   ]
  },
  {
   "cell_type": "code",
   "execution_count": 48,
   "id": "cb783856",
   "metadata": {},
   "outputs": [],
   "source": [
    "def getId(text):\n",
    "    if not text.isdigit():\n",
    "        year = text.split(' ')[0]\n",
    "    else:\n",
    "        year = text\n",
    "    return int(year)"
   ]
  },
  {
   "cell_type": "code",
   "execution_count": 82,
   "id": "72f31b35",
   "metadata": {},
   "outputs": [],
   "source": [
    "# Preparing a pandas data frame\n",
    "metric_df = pd.DataFrame(columns = ['paper_id','year','data','data_group',\n",
    "                                   'metric','metric_larger','metric_smaller',\n",
    "                                  'outcome_smaller','outcome_larger','outcome_type','relationship'])\n",
    "\n",
    "for record in records:\n",
    "    col_wise_data = parseRecord(record)\n",
    "    temp_df = {'paper_id':col_wise_data[0],\n",
    "              'year':getPaperYear(getId(col_wise_data[0])),'data':col_wise_data[3],'data_group':col_wise_data[4],\n",
    "              'metric':col_wise_data[7],'metric_larger':col_wise_data[8],\n",
    "              'metric_smaller':col_wise_data[9],\n",
    "              'outcome_smaller':col_wise_data[13],'outcome_larger':col_wise_data[15],\n",
    "              'outcome_type':col_wise_data[16],\n",
    "              'relationship':col_wise_data[17]}\n",
    "    temp_df = pd.DataFrame(temp_df,index=[0])\n",
    "    metric_df = pd.concat([metric_df,temp_df],axis=0)\n",
    "        "
   ]
  },
  {
   "cell_type": "code",
   "execution_count": 83,
   "id": "68e5e3f2",
   "metadata": {},
   "outputs": [],
   "source": [
    "metric_df.reset_index(inplace=True)"
   ]
  },
  {
   "cell_type": "code",
   "execution_count": 84,
   "id": "7d0e2b67",
   "metadata": {},
   "outputs": [
    {
     "data": {
      "text/plain": [
       "(155, 12)"
      ]
     },
     "execution_count": 84,
     "metadata": {},
     "output_type": "execute_result"
    }
   ],
   "source": [
    "metric_df.shape"
   ]
  },
  {
   "cell_type": "code",
   "execution_count": 85,
   "id": "b275e01d",
   "metadata": {},
   "outputs": [],
   "source": [
    "metric_df.to_csv('metric_dataframe.csv',index=False)"
   ]
  },
  {
   "cell_type": "markdown",
   "id": "0105209f",
   "metadata": {},
   "source": [
    "## Adding code to extract information in formatted manner\n",
    "Now, we will add functions to extract information from the dataframe."
   ]
  },
  {
   "cell_type": "code",
   "execution_count": 112,
   "id": "b0b27605",
   "metadata": {},
   "outputs": [],
   "source": [
    "def getItemsInDict(text):\n",
    "    \"\"\"\n",
    "    This function takes a string which contains data in following format. \n",
    "    The function then process the string, extract the information in dictionary data structure.\n",
    "     sample: VI) EDA\n",
    "    \n",
    "    params:\n",
    "    \n",
    "        text: string\n",
    "        \n",
    "    returns:\n",
    "    \n",
    "        dictionary with extracted information\n",
    "    \n",
    "    \"\"\"\n",
    "    # remove additional quotes\n",
    "    text_no_quotes = text.replace('\\\"','')\n",
    "    text_items = text_no_quotes.split(';')\n",
    "    \n",
    "    pre_text_items = [item for item in text_items if item != '' ]\n",
    "\n",
    "    labels = [item.split(')')[1].strip() for item in pre_text_items]\n",
    "    index = [item.split(')')[0].strip() for item in pre_text_items]\n",
    "    \n",
    "    pre_met = {}\n",
    "    for ind,lab in zip(index,labels):\n",
    "        pre_met[ind] = lab\n",
    "    return pre_met\n",
    "\n",
    "\n",
    "def getRelationshipData(data,metrics_org,outcome_smaller):\n",
    "    \"\"\"\n",
    "    This function processess relationship codes and relate the metric and outcome indices to actual\n",
    "    metrics and outcomes.\n",
    "    \n",
    "    params:\n",
    "    \n",
    "        data  : relationship string\n",
    "        \n",
    "        metrics_org: actual metrics reported in the paper\n",
    "        outcome_smaller: actually outcome reported in the paper\n",
    "        \n",
    "    returns:\n",
    "    \n",
    "        returns a dictionary where keys are the metrics and values are the outcomes.\n",
    "    \"\"\"\n",
    "    text_no_quotes = data.replace('\\\"','')\n",
    "    text_items = text_no_quotes.split(';')\n",
    "    \n",
    "    pre_text_items = [item for item in text_items if item != '' ]\n",
    "    rel_tuples = []\n",
    "    for rel in pre_text_items:\n",
    "        parts = rel.split(':')\n",
    "        rel_type = '' if len(parts) < 3 else parts[2]\n",
    "        rel_method = parts[1]\n",
    "        rel_parts = parts[0].split('-')\n",
    "        metrics = rel_parts[0]\n",
    "        outcomes = rel_parts[1]\n",
    "        metrics = [item.strip() for item in metrics.split(',')]\n",
    "        outcomes = [item.strip() for item in outcomes.split(',')]\n",
    "        for metric in metrics:\n",
    "            for outcome in outcomes:\n",
    "                #print('adding {}=>{}'.format([metrics_org[metric]],outcome_smaller[outcome]))\n",
    "                try:\n",
    "                    rel_tuples.append((metrics_org[metric],outcome_smaller[outcome],rel_method))\n",
    "                except:\n",
    "                    pass\n",
    "    return rel_tuples   \n",
    " "
   ]
  },
  {
   "cell_type": "code",
   "execution_count": 116,
   "id": "8dbeac7b",
   "metadata": {},
   "outputs": [
    {
     "name": "stdout",
     "output_type": "stream",
     "text": [
      "Final record:\n",
      "\n",
      "\n",
      "{'metrics_larger': {'1': 'Verbal', '2': 'Gaze', '3': 'Verbal'},\n",
      " 'metrics_org': {'1': 'non-verbal speaking metrics',\n",
      "                 '2': 'visual attention',\n",
      "                 '3': 'verbal dominance and information metrics'},\n",
      " 'metrics_smaller': {'1': 'Speech Participation',\n",
      "                     '2': 'Visual Attention',\n",
      "                     '3': 'Speech Participation'},\n",
      " 'outcome_larger': {'A': 'interpersonal relationship / perception',\n",
      "                    'B': 'interpersonal relationship / perception'},\n",
      " 'outcome_smaller': {'A': 'perceived leadership',\n",
      "                     'B': 'perceived contribution'},\n",
      " 'relationship': [('verbal dominance and information metrics',\n",
      "                   'perceived leadership',\n",
      "                   ' correlation '),\n",
      "                  ('verbal dominance and information metrics',\n",
      "                   'perceived contribution',\n",
      "                   ' correlation '),\n",
      "                  ('non-verbal speaking metrics',\n",
      "                   'perceived leadership',\n",
      "                   ' correlation '),\n",
      "                  ('non-verbal speaking metrics',\n",
      "                   'perceived contribution',\n",
      "                   ' correlation '),\n",
      "                  ('visual attention', 'perceived leadership', ' correlation '),\n",
      "                  ('visual attention',\n",
      "                   'perceived contribution',\n",
      "                   ' correlation '),\n",
      "                  ('non-verbal speaking metrics',\n",
      "                   'perceived leadership',\n",
      "                   ' regression'),\n",
      "                  ('visual attention', 'perceived leadership', ' regression'),\n",
      "                  ('verbal dominance and information metrics',\n",
      "                   'perceived leadership',\n",
      "                   ' regression'),\n",
      "                  ('non-verbal speaking metrics',\n",
      "                   'perceived contribution',\n",
      "                   ' regression'),\n",
      "                  ('visual attention', 'perceived contribution', ' regression'),\n",
      "                  ('verbal dominance and information metrics',\n",
      "                   'perceived contribution',\n",
      "                   ' regression')],\n",
      " 'year': 2018}\n"
     ]
    }
   ],
   "source": [
    "# Showing the same record which has paper id:3 (as above) in processed format\n",
    "\n",
    "paper_record = metric_df.iloc[3,:].to_dict()\n",
    "\n",
    "year = paper_record['year']\n",
    "metrics_org = getItemsInDict(paper_record['metric'])\n",
    "metrics_larger = getItemsInDict(paper_record['metric_larger'])\n",
    "metrics_smaller = getItemsInDict(paper_record['metric_smaller'])\n",
    "outcome_larger = getItemsInDict(paper_record['outcome_larger'])\n",
    "outcome_smaller = getItemsInDict(paper_record['outcome_smaller'])\n",
    "relationship = getRelationshipData(paper_record['relationship'],metrics_org,outcome_smaller)\n",
    "    \n",
    "record_dict = {'year':year,\n",
    "              'metrics_org':metrics_org,\n",
    "              'metrics_larger':metrics_larger,\n",
    "              'metrics_smaller':metrics_smaller,\n",
    "              'outcome_larger':outcome_larger,\n",
    "              'outcome_smaller':outcome_smaller,\n",
    "              'relationship':relationship}\n",
    "print('Final record:\\n\\n')\n",
    "pp.pprint(record_dict)\n"
   ]
  },
  {
   "cell_type": "code",
   "execution_count": null,
   "id": "b69a7f1f",
   "metadata": {},
   "outputs": [],
   "source": []
  }
 ],
 "metadata": {
  "kernelspec": {
   "display_name": "Python 3 (ipykernel)",
   "language": "python",
   "name": "python3"
  },
  "language_info": {
   "codemirror_mode": {
    "name": "ipython",
    "version": 3
   },
   "file_extension": ".py",
   "mimetype": "text/x-python",
   "name": "python",
   "nbconvert_exporter": "python",
   "pygments_lexer": "ipython3",
   "version": "3.9.16"
  }
 },
 "nbformat": 4,
 "nbformat_minor": 5
}
